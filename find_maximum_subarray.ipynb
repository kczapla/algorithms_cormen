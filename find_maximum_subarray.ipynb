{
 "cells": [
  {
   "cell_type": "code",
   "execution_count": 11,
   "metadata": {
    "collapsed": true
   },
   "outputs": [],
   "source": [
    "def find_max_crossing_subarray(A, low, mid, high):\n",
    "    \n",
    "    max_left_sum = -1000000\n",
    "    max_right_sum = -1000000\n",
    "    \n",
    "    max_left_index = mid\n",
    "    max_right_index = mid + 1\n",
    "    \n",
    "    suma = 0\n",
    "    \n",
    "    for i in range(mid, low-1, -1):\n",
    "    \n",
    "        suma = suma + A[i]\n",
    "        if suma > max_left_sum:\n",
    "            \n",
    "            max_left_index = i\n",
    "            max_left_sum = suma\n",
    "    \n",
    "    suma = 0\n",
    "    \n",
    "    for i in range(mid+1, high+1):\n",
    "    \n",
    "        suma = suma + A[i]\n",
    "        if suma > max_right_sum:\n",
    "            \n",
    "            max_right_index = i\n",
    "            max_right_sum = suma\n",
    "            \n",
    "    return max_left_index, max_right_index, max_left_sum + max_right_sum"
   ]
  },
  {
   "cell_type": "code",
   "execution_count": 12,
   "metadata": {
    "collapsed": false
   },
   "outputs": [],
   "source": [
    "l = [13, -3, -25, 20, -3, -16, -23, 18, 20, -7, 12,-5, -22, 15, -4, 7]"
   ]
  },
  {
   "cell_type": "code",
   "execution_count": 20,
   "metadata": {
    "collapsed": false
   },
   "outputs": [
    {
     "data": {
      "text/plain": [
       "[0]"
      ]
     },
     "execution_count": 20,
     "metadata": {},
     "output_type": "execute_result"
    }
   ],
   "source": [
    "[x for x in range(0, 0-1, -1)]"
   ]
  },
  {
   "cell_type": "code",
   "execution_count": 13,
   "metadata": {
    "collapsed": false
   },
   "outputs": [
    {
     "data": {
      "text/plain": [
       "(7, 10, 43)"
      ]
     },
     "execution_count": 13,
     "metadata": {},
     "output_type": "execute_result"
    }
   ],
   "source": [
    "find_max_crossing_subarray(l, 0, 7, 15)"
   ]
  },
  {
   "cell_type": "code",
   "execution_count": 14,
   "metadata": {
    "collapsed": true
   },
   "outputs": [],
   "source": [
    "def find_maximum_subarray(A, low, high):\n",
    "    \n",
    "    if high == low:\n",
    "        \n",
    "        return low, high, A[low]\n",
    "    \n",
    "    else:\n",
    "        \n",
    "        mid = (low + high) // 2\n",
    "        \n",
    "        left_low, left_high, left_sum = find_maximum_subarray(A, low, mid)\n",
    "        right_low, right_high, right_sum = find_maximum_subarray(A, mid+1, high)\n",
    "        cross_low, cross_high, cross_sum = find_max_crossing_subarray(A, low, mid, high)\n",
    "        \n",
    "        if left_sum >= right_sum and left_sum >= cross_sum:\n",
    "            \n",
    "            return left_low, left_high, left_sum\n",
    "        \n",
    "        elif right_sum >= left_sum and right_sum >= cross_sum:\n",
    "            \n",
    "            return right_low, right_high, right_sum\n",
    "        \n",
    "        else:\n",
    "            \n",
    "            return cross_low, cross_high, cross_sum\n",
    "        "
   ]
  },
  {
   "cell_type": "code",
   "execution_count": 18,
   "metadata": {
    "collapsed": false
   },
   "outputs": [
    {
     "data": {
      "text/plain": [
       "(1, 1, -3)"
      ]
     },
     "execution_count": 18,
     "metadata": {},
     "output_type": "execute_result"
    }
   ],
   "source": [
    "x = [-13, -3, -25, -20, -3, -16, -23, -18, -20, -7, -12,-5, -22, -15, -4, -7]\n",
    "find_maximum_subarray(x, 0, 15)"
   ]
  },
  {
   "cell_type": "code",
   "execution_count": 16,
   "metadata": {
    "collapsed": true
   },
   "outputs": [],
   "source": [
    "def force_find_maximum_subarray(A):\n",
    "    \n",
    "    max_left = 0\n",
    "    max_right = 0\n",
    "    max_sum = -100000\n",
    "    suma = 0\n",
    "    \n",
    "    i = 0\n",
    "    \n",
    "    for a in A:\n",
    "        suma += a\n",
    "        \n",
    "        if suma >= max_sum:\n",
    "            max_left = i\n",
    "            max_right = i\n",
    "            max_sum = suma\n",
    "            \n",
    "        j = i+1\n",
    "        for b in A[j:]:\n",
    "        \n",
    "            suma += b\n",
    "            if suma >= max_sum:\n",
    "                max_left = i\n",
    "                max_right = j\n",
    "                max_sum = suma\n",
    "            j+=1\n",
    "            \n",
    "        i+=1\n",
    "        suma=0\n",
    "    \n",
    "    return max_left, max_right, max_sum"
   ]
  },
  {
   "cell_type": "code",
   "execution_count": 19,
   "metadata": {
    "collapsed": false
   },
   "outputs": [
    {
     "data": {
      "text/plain": [
       "(4, 4, -3)"
      ]
     },
     "execution_count": 19,
     "metadata": {},
     "output_type": "execute_result"
    }
   ],
   "source": [
    "force_find_maximum_subarray(x)"
   ]
  },
  {
   "cell_type": "code",
   "execution_count": null,
   "metadata": {
    "collapsed": true
   },
   "outputs": [],
   "source": []
  }
 ],
 "metadata": {
  "kernelspec": {
   "display_name": "Python 3",
   "language": "python",
   "name": "python3"
  },
  "language_info": {
   "codemirror_mode": {
    "name": "ipython",
    "version": 3
   },
   "file_extension": ".py",
   "mimetype": "text/x-python",
   "name": "python",
   "nbconvert_exporter": "python",
   "pygments_lexer": "ipython3",
   "version": "3.4.3"
  }
 },
 "nbformat": 4,
 "nbformat_minor": 0
}
